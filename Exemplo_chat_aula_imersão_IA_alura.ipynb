{
  "nbformat": 4,
  "nbformat_minor": 0,
  "metadata": {
    "colab": {
      "provenance": [],
      "toc_visible": true,
      "authorship_tag": "ABX9TyOWWuCB6Rx8QO9zCN3bG6Ao",
      "include_colab_link": true
    },
    "kernelspec": {
      "name": "python3",
      "display_name": "Python 3"
    },
    "language_info": {
      "name": "python"
    }
  },
  "cells": [
    {
      "cell_type": "markdown",
      "metadata": {
        "id": "view-in-github",
        "colab_type": "text"
      },
      "source": [
        "<a href=\"https://colab.research.google.com/github/Rafa-eloi/Projeto_Chat_Gemini/blob/main/Exemplo_chat_aula_imers%C3%A3o_IA_alura.ipynb\" target=\"_parent\"><img src=\"https://colab.research.google.com/assets/colab-badge.svg\" alt=\"Open In Colab\"/></a>"
      ]
    },
    {
      "cell_type": "code",
      "execution_count": 2,
      "metadata": {
        "id": "UCvBVYi1hcHl"
      },
      "outputs": [],
      "source": [
        "#Instalando o SDK do Google\n",
        "!pip install -q -U google-generativeai"
      ]
    },
    {
      "cell_type": "code",
      "source": [
        "#Configurações iniciais\n",
        "import google.generativeai as genai\n",
        "\n",
        "from google.colab import userdata\n",
        "api_key = userdata.get (\"SECRET_KEY\")\n",
        "genai.configure(api_key=api_key)"
      ],
      "metadata": {
        "id": "viE09szCiozk"
      },
      "execution_count": 10,
      "outputs": []
    },
    {
      "cell_type": "code",
      "source": [
        "#Listando os modelos disponíveis\n",
        "for m in genai.list_models():\n",
        "  if 'generateContent' in m.supported_generation_methods:\n",
        "    print(m.name)"
      ],
      "metadata": {
        "colab": {
          "base_uri": "https://localhost:8080/",
          "height": 146
        },
        "id": "9ibaGZdyjS8O",
        "outputId": "8e6b4c25-bacf-4e4e-9e69-fb9dfc9f0f6e"
      },
      "execution_count": 4,
      "outputs": [
        {
          "output_type": "stream",
          "name": "stdout",
          "text": [
            "models/gemini-1.0-pro\n",
            "models/gemini-1.0-pro-001\n",
            "models/gemini-1.0-pro-latest\n",
            "models/gemini-1.0-pro-vision-latest\n",
            "models/gemini-1.5-pro-latest\n",
            "models/gemini-pro\n",
            "models/gemini-pro-vision\n"
          ]
        }
      ]
    },
    {
      "cell_type": "code",
      "source": [
        "generation_config = {\n",
        "  \"candidate_count\": 1,\n",
        "  \"temperature\": 0.5,\n",
        "}"
      ],
      "metadata": {
        "id": "qCCIOJVbjWOk"
      },
      "execution_count": 5,
      "outputs": []
    },
    {
      "cell_type": "code",
      "source": [
        "safety_settings={\n",
        "    'HATE': 'BLOCK_NONE',\n",
        "    'HARASSMENT': 'BLOCK_NONE',\n",
        "    'SEXUAL' : 'BLOCK_NONE',\n",
        "    'DANGEROUS' : 'BLOCK_NONE'\n",
        "    }"
      ],
      "metadata": {
        "id": "Ub13gVbgjz0r"
      },
      "execution_count": 6,
      "outputs": []
    },
    {
      "cell_type": "code",
      "source": [
        "model = genai.GenerativeModel(model_name='gemini-1.0-pro',\n",
        "                                  generation_config=generation_config,\n",
        "                                  safety_settings=safety_settings,)"
      ],
      "metadata": {
        "id": "lfV4WOFxj1KO"
      },
      "execution_count": 7,
      "outputs": []
    },
    {
      "cell_type": "code",
      "source": [
        "response = model.generate_content(\"Que empresa criou o modelo de IA Gemini?\")\n",
        "response.text"
      ],
      "metadata": {
        "colab": {
          "base_uri": "https://localhost:8080/",
          "height": 35
        },
        "id": "uUYY92KXj3un",
        "outputId": "5a48cf10-24c3-47b7-c0c1-c8f14989e334"
      },
      "execution_count": 8,
      "outputs": [
        {
          "output_type": "execute_result",
          "data": {
            "text/plain": [
              "'Google'"
            ],
            "application/vnd.google.colaboratory.intrinsic+json": {
              "type": "string"
            }
          },
          "metadata": {},
          "execution_count": 8
        }
      ]
    },
    {
      "cell_type": "code",
      "source": [
        "chat = model.start_chat(history=[])\n",
        "\n",
        "prompt = input('Esperando prompt: ')\n",
        "\n",
        "while prompt != \"fim\":\n",
        "  response = chat.send_message(prompt)\n",
        "  print(\"Resposta:\", response.text, '\\n\\n')\n",
        "  prompt = input('Esperando prompt: ')"
      ],
      "metadata": {
        "colab": {
          "base_uri": "https://localhost:8080/",
          "height": 588
        },
        "id": "zuca9YIloLwa",
        "outputId": "d550e5fe-a1f1-4f2c-af8d-f6eb31c06991"
      },
      "execution_count": 11,
      "outputs": [
        {
          "name": "stdout",
          "output_type": "stream",
          "text": [
            "Esperando prompt: Gere um texto de ate 500 caracteres falando sobre aquecimento global\n",
            "Resposta: O aquecimento global é um aumento gradual na temperatura média da Terra, causado principalmente pela liberação de gases de efeito estufa na atmosfera. Esses gases, como dióxido de carbono e metano, prendem o calor do sol, levando ao aumento das temperaturas.\n",
            "\n",
            "As principais causas do aquecimento global são as atividades humanas, como a queima de combustíveis fósseis (carvão, petróleo e gás natural) para gerar energia e o desmatamento. Essas atividades liberam grandes quantidades de gases de efeito estufa na atmosfera.\n",
            "\n",
            "Os impactos do aquecimento global são amplos e incluem:\n",
            "\n",
            "* Aumento do nível do mar devido ao derretimento das geleiras e calotas polares.\n",
            "* Eventos climáticos extremos mais frequentes e intensos, como furacões, secas e ondas de calor.\n",
            "* Mudanças nos padrões de precipitação, levando a inundações e secas em diferentes regiões.\n",
            "* Impactos na saúde humana, como doenças relacionadas ao calor e problemas respiratórios.\n",
            "* Perda de biodiversidade, pois os ecossistemas são afetados por mudanças de temperatura e padrões climáticos.\n",
            "\n",
            "Mitigar o aquecimento global requer uma ação global para reduzir as emissões de gases de efeito estufa. Isso inclui:\n",
            "\n",
            "* Investir em energias renováveis, como solar e eólica.\n",
            "* Melhorar a eficiência energética em edifícios e indústrias.\n",
            "* Promover o transporte sustentável, como caminhadas, ciclismo e transporte público.\n",
            "* Proteger as florestas, que atuam como sumidouros de carbono.\n",
            "\n",
            "Adaptar-se aos impactos do aquecimento global também é crucial. Isso inclui:\n",
            "\n",
            "* Construir infraestrutura resistente ao clima, como diques e sistemas de alerta precoce.\n",
            "* Desenvolver sistemas de gerenciamento de água para lidar com secas e inundações.\n",
            "* Implementar planos de resposta a emergências para eventos climáticos extremos.\n",
            "\n",
            "O aquecimento global é uma ameaça séria para o planeta e seus habitantes. A ação imediata é necessária para reduzir as emissões de gases de efeito estufa e se adaptar aos impactos inevitáveis das mudanças climáticas. \n",
            "\n",
            "\n",
            "Esperando prompt: fim\n"
          ]
        }
      ]
    }
  ]
}